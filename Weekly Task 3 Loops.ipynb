{
 "cells": [
  {
   "cell_type": "markdown",
   "metadata": {},
   "source": [
    "# Weekly Task 2 - Roller Coaster Loops\n",
    "![wooo!](https://media.giphy.com/media/SNrC0OKr4YP2U/giphy.gif?cid=ecf05e47lnb8o893cghul7mragm4n7ric88y6ka94wp4r25f&rid=giphy.gif&ct=g)"
   ]
  },
  {
   "cell_type": "markdown",
   "metadata": {},
   "source": [
    "Remember the rules of ~Fight~ Code Club:\n",
    "1. ALWAYS DOCUMENT\n",
    "2. Cite resources that you use (paste links)\n",
    "3. Include the names people who you worked with\n",
    "4. Be neat and organized"
   ]
  },
  {
   "cell_type": "markdown",
   "metadata": {},
   "source": [
    "### 1.  Write a for loop that loops through your list of countries and does the following operations:\n",
    "#### 1. If that country starts with the letter c, it prints the name of that country\n",
    "#### 2. otherwise it adds 1 to a variable called \"count\""
   ]
  },
  {
   "cell_type": "code",
   "execution_count": 2,
   "metadata": {},
   "outputs": [
    {
     "name": "stdout",
     "output_type": "stream",
     "text": [
      "Cuba\n",
      "Canada\n",
      "Chile\n",
      "Colombia\n"
     ]
    }
   ],
   "source": [
    "#I reuse the country list i made previously\n",
    "#the countries are all part of my list called countries_list1\n",
    "\n",
    "count=0 #count initiating from 0\n",
    "\n",
    "countries_list1 = ['Cuba', 'Austrialia', 'Mexico', 'Russia', 'Thailand',\n",
    "                  'Peru', 'Canada', 'Uruguay', 'Chile', 'Colombia']\n",
    "#I will create a for loop that will print a country that starts with the letter C\n",
    "for i in countries_list1: #for every i (new variable name) in my list refers to each element\n",
    "    if i.startswith('C'): #if the i element starts with 'C'\n",
    "        print(i) #then print that element\n",
    "    else: #or else add one to the count \n",
    "        count = count+1"
   ]
  },
  {
   "cell_type": "markdown",
   "metadata": {},
   "source": [
    "### 2.  Write a python script using a for loop and range function that prints numbers 20 through 160 by every 10 except 80."
   ]
  },
  {
   "cell_type": "code",
   "execution_count": 6,
   "metadata": {},
   "outputs": [
    {
     "name": "stdout",
     "output_type": "stream",
     "text": [
      "20\n",
      "30\n",
      "40\n",
      "50\n",
      "60\n",
      "70\n",
      "90\n",
      "100\n",
      "110\n",
      "120\n",
      "130\n",
      "140\n",
      "150\n"
     ]
    }
   ],
   "source": [
    "#using a for loop and range function\n",
    "for i in range(20,160,10): #for every i element in the range ()\n",
    "    if i != 80: #if i is not equal to 80, print the values of i\n",
    "        print(i)\n",
    "            "
   ]
  },
  {
   "cell_type": "markdown",
   "metadata": {},
   "source": [
    "### 3. Write a while loop that calculates celsius to farenheit from 0 up to and including 38 celsius (hint: (32°F − 32) × 5/9 = 0°C)\n"
   ]
  },
  {
   "cell_type": "code",
   "execution_count": 31,
   "metadata": {},
   "outputs": [
    {
     "name": "stdout",
     "output_type": "stream",
     "text": [
      "0°C is 32.0°F\n",
      "1°C is 33.8°F\n",
      "2°C is 35.6°F\n",
      "3°C is 37.4°F\n",
      "4°C is 39.2°F\n",
      "5°C is 41.0°F\n",
      "6°C is 42.8°F\n",
      "7°C is 44.6°F\n",
      "8°C is 46.4°F\n",
      "9°C is 48.2°F\n",
      "10°C is 50.0°F\n",
      "11°C is 51.8°F\n",
      "12°C is 53.6°F\n",
      "13°C is 55.4°F\n",
      "14°C is 57.2°F\n",
      "15°C is 59.0°F\n",
      "16°C is 60.8°F\n",
      "17°C is 62.6°F\n",
      "18°C is 64.4°F\n",
      "19°C is 66.2°F\n",
      "20°C is 68.0°F\n",
      "21°C is 69.8°F\n",
      "22°C is 71.6°F\n",
      "23°C is 73.4°F\n",
      "24°C is 75.2°F\n",
      "25°C is 77.0°F\n",
      "26°C is 78.8°F\n",
      "27°C is 80.6°F\n",
      "28°C is 82.4°F\n",
      "29°C is 84.2°F\n",
      "30°C is 86.0°F\n",
      "31°C is 87.8°F\n",
      "32°C is 89.6°F\n",
      "33°C is 91.4°F\n",
      "34°C is 93.2°F\n",
      "35°C is 95.0°F\n",
      "36°C is 96.8°F\n",
      "37°C is 98.6°F\n",
      "38°C is 100.4°F\n"
     ]
    }
   ],
   "source": [
    "#need to initiate a while loop first\n",
    "celsius = 0 #the celcius is initiated by 0\n",
    "\n",
    "while celsius <= 38: #the loop will continue unitl celsius is less than or equal to 38\n",
    "    #convert celcius to farenheit using the formula\n",
    "    farenheit = (celsius * 9/5) +32 #we convert C to F using (celsius *9/5) + 32\n",
    "    print(f\"{celsius}°C is {farenheit}°F\") #f string - allows to embedded expressions inside curly braces within a string\n",
    "    #https://realpython.com/python-f-strings/\n",
    "    celsius += 1 #we increment celsius by 1 in each iteration to move to the next temperature"
   ]
  },
  {
   "cell_type": "markdown",
   "metadata": {},
   "source": [
    "### 4. Write a script with a nested for loop that prints out every month and then prints out the total days of the month. "
   ]
  },
  {
   "cell_type": "code",
   "execution_count": 44,
   "metadata": {},
   "outputs": [
    {
     "name": "stdout",
     "output_type": "stream",
     "text": [
      "January has 31 days.\n",
      "February is the only month with 28 days!\n",
      "March has 31 days.\n",
      "April has 30 days.\n",
      "May has 31 days.\n",
      "June has 30 days.\n",
      "July has 31 days.\n",
      "August has 31 days.\n",
      "September has 30 days.\n",
      "October has 31 days.\n",
      "November has 30 days.\n",
      "December has 31 days.\n"
     ]
    }
   ],
   "source": [
    "#created a new list with each month and days\n",
    "#here I am making the month a string and the days an integer\n",
    "months = [\n",
    "    ('January', 31),\n",
    "    ('February', 28), \n",
    "    ('March', 31),\n",
    "    ('April', 30), \n",
    "    ('May', 31), \n",
    "    ('June', 30), \n",
    "    ('July', 31), \n",
    "    ('August', 31),\n",
    "    ('September',30),\n",
    "    ('October', 31),\n",
    "    ('November', 30),\n",
    "    ('December', 31)\n",
    "]\n",
    "#for month represents the name of the month\n",
    "#days represents the number of days\n",
    "#days in months represents each month and the associated number of days\n",
    "#for simplicity and efficiency, I decided to use if, elif, and else since months mostly had 30, and 31 days\n",
    "for month, days in months:\n",
    "    if days == 31: #if months had 31 days\n",
    "        print(f\"{month} has {days} days.\")\n",
    "    elif days == 30: #if months had 30 days\n",
    "        print(f\"{month} has {days} days.\") #used the f string function again\n",
    "\n",
    "    else:\n",
    "        print('February is the only month with 28 days!') #only feb has 28 days so it will print this"
   ]
  },
  {
   "cell_type": "markdown",
   "metadata": {},
   "source": [
    "### 5. Write a loop (for or while) AND use list comprehension that calculates the return of an investment of $4,000 into a 401k for 10 years. The return on investment annually is as follows: 11.39%, -0.73%, 9.54%, 19.42%, -6.24%, 28.88%, 16.26%, 26.89%, -19.44%, 24.23%, 3.63%\n",
    "\n",
    "#### Bonus: Calculate the returns with an initial investment of 3,000 and then an annual addition of 5,000 every year.\n",
    "\n",
    "\n"
   ]
  },
  {
   "cell_type": "code",
   "execution_count": 71,
   "metadata": {},
   "outputs": [
    {
     "name": "stdout",
     "output_type": "stream",
     "text": [
      "Total amount after 10 years: 9.3267\n"
     ]
    }
   ],
   "source": [
    "#I am calling numpy from my library to use\n",
    "i = 4000 #initial investment amount\n",
    "\n",
    "annual_returns = [11.39, -0.73, 9.54, 19.42, -6.24, 28.88, 16.26, -19.44, 24.23, 3.63] #all the annual fees in one variable\n",
    "\n",
    "for i in range(10): #used range because it was only 10 years \n",
    "    i *= (1 + annual_returns[i] / 100) #since returns are in %, i needed to make sure it would calculate i * non %\n",
    "#i equals a product of 1 + annual_returns*principal over 100, to get nominal amount from percent\n",
    "print(\"Total amount after 10 years:\", i) #this prints out the calculated new return on investment"
   ]
  },
  {
   "cell_type": "code",
   "execution_count": 79,
   "metadata": {
    "scrolled": true
   },
   "outputs": [
    {
     "name": "stdout",
     "output_type": "stream",
     "text": [
      "Total amount after 10 years: 45009.3267\n"
     ]
    }
   ],
   "source": [
    "#I am calling numpy from my library to use\n",
    "i = 3000 #initial investment amount\n",
    "\n",
    "annual_returns = [11.39, -0.73, 9.54, 19.42, -6.24, 28.88, 16.26, -19.44, 24.23, 3.63]\n",
    "\n",
    "for i in range(10):\n",
    "    i *= 5000 + (1 + annual_returns[i] / 100) #added the 5000 to the equation for every year in total of 10 years\n",
    "\n",
    "print(\"Total amount after 10 years:\", i)"
   ]
  },
  {
   "cell_type": "code",
   "execution_count": null,
   "metadata": {},
   "outputs": [],
   "source": []
  }
 ],
 "metadata": {
  "kernelspec": {
   "display_name": "Python 3 (ipykernel)",
   "language": "python",
   "name": "python3"
  },
  "language_info": {
   "codemirror_mode": {
    "name": "ipython",
    "version": 3
   },
   "file_extension": ".py",
   "mimetype": "text/x-python",
   "name": "python",
   "nbconvert_exporter": "python",
   "pygments_lexer": "ipython3",
   "version": "3.11.5"
  }
 },
 "nbformat": 4,
 "nbformat_minor": 4
}
