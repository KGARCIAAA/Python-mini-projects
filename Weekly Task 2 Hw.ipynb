{
 "cells": [
  {
   "cell_type": "markdown",
   "metadata": {},
   "source": [
    "# Weekly Task 2 \n",
    "![huh](https://media.giphy.com/media/RLUyfJnogtXK44pm9t/giphy.gif?cid=ecf05e47n1wqag34fii52sbyus99aoucjf8sfl1e5uftwp2k&rid=giphy.gif&ct=g)"
   ]
  },
  {
   "cell_type": "markdown",
   "metadata": {},
   "source": [
    "Remember the rules of ~Fight~ Code Club:\n",
    "1. ALWAYS DOCUMENT\n",
    "2. Cite resources that you use (paste links)\n",
    "3. Include the names people who you worked with\n",
    "4. Be neat and organized"
   ]
  },
  {
   "cell_type": "markdown",
   "metadata": {},
   "source": [
    "### 1. Create a list of 10 countries. \n",
    "\n",
    "### Assign that to a variable."
   ]
  },
  {
   "cell_type": "code",
   "execution_count": 16,
   "metadata": {},
   "outputs": [
    {
     "name": "stdout",
     "output_type": "stream",
     "text": [
      "['Guatamala', 'Honduras', 'Japan', 'Ecuador', 'El Salvador', 'Austrialia', 'Brazil', 'India', 'USA', 'Poland']\n"
     ]
    }
   ],
   "source": [
    "# Creating a list of 10 countries, assigning to countries_list\n",
    "countries_list = ['Guatamala', 'Honduras', 'Japan', 'Ecuador', \n",
    "                  'El Salvador', 'Austrialia', 'Brazil', 'India',\n",
    "                  'USA', 'Poland']\n",
    "print(countries_list)\n",
    "#all countries are strings"
   ]
  },
  {
   "cell_type": "markdown",
   "metadata": {},
   "source": [
    "### 2. Create a dictionary that maps those 10 countries to their capitols. make the keys are the country and the values are the capitols.\n",
    "\n",
    "### Assign that to a different variable."
   ]
  },
  {
   "cell_type": "code",
   "execution_count": 17,
   "metadata": {},
   "outputs": [
    {
     "name": "stdout",
     "output_type": "stream",
     "text": [
      "{'Guatamala': 'Guatamala City', 'Honduras': 'Tegucigalpa', 'Japan': 'Tokyo', 'Ecuador': 'Quito', 'El Salvador': 'San Salvador', 'Austrialia': 'Canberra', 'Brazil': 'Brasília', 'India': 'New Delhi', 'USA': 'Washington, D.C.', 'Poland': 'Warsaw'}\n"
     ]
    }
   ],
   "source": [
    "#this new variable displays country and capital for the country\n",
    "country_capitals = {'Guatamala':'Guatamala City','Honduras':'Tegucigalpa',\n",
    "                   'Japan':'Tokyo', 'Ecuador':'Quito', 'El Salvador':'San Salvador',\n",
    "                   'Austrialia':'Canberra', 'Brazil':'Brasília', 'India':'New Delhi',\n",
    "                   'USA':'Washington, D.C.', 'Poland': 'Warsaw'}\n",
    "#key:value\n",
    "#Dictionaries have curly brackets, list have hard brackets\n",
    "print(country_capitals)"
   ]
  },
  {
   "cell_type": "markdown",
   "metadata": {},
   "source": [
    "### 3. Add another country to the dictionary you created in question 2"
   ]
  },
  {
   "cell_type": "code",
   "execution_count": 18,
   "metadata": {},
   "outputs": [
    {
     "name": "stdout",
     "output_type": "stream",
     "text": [
      "{'Guatamala': 'Guatamala City', 'Honduras': 'Tegucigalpa', 'Japan': 'Tokyo', 'Ecuador': 'Quito', 'El Salvador': 'San Salvador', 'Austrialia': 'Canberra', 'Brazil': 'Brasília', 'India': 'New Delhi', 'USA': 'Washington, D.C.', 'Poland': 'Warsaw', 'China': 'Beijing'}\n"
     ]
    }
   ],
   "source": [
    "country_capitals['China']='Beijing' #this will add the new country to the list\n",
    "print(country_capitals)"
   ]
  },
  {
   "cell_type": "markdown",
   "metadata": {},
   "source": [
    "### 4. Slice your country *list* so that it reveals items in position 3 through 8."
   ]
  },
  {
   "cell_type": "code",
   "execution_count": 19,
   "metadata": {},
   "outputs": [
    {
     "name": "stdout",
     "output_type": "stream",
     "text": [
      "['Japan', 'Ecuador', 'El Salvador', 'Austrialia', 'Brazil', 'India']\n"
     ]
    }
   ],
   "source": [
    "#slice the characters in position 3 through 8\n",
    "#index always starts at 0\n",
    "print(countries_list[2:8])"
   ]
  },
  {
   "cell_type": "markdown",
   "metadata": {},
   "source": [
    "### 5.\n",
    "### A. Create a second country list (that is not identical to the one in Q4).\n",
    "### B. Use the appropriate operator to find the common elements between the list in Q4 and Q5A."
   ]
  },
  {
   "cell_type": "code",
   "execution_count": 20,
   "metadata": {},
   "outputs": [
    {
     "name": "stdout",
     "output_type": "stream",
     "text": [
      "['Cuba', 'Austrialia', 'Mexico', 'Russia', 'Thailand', 'Peru', 'Canada', 'Uruguay', 'Chile', 'Colombia']\n"
     ]
    }
   ],
   "source": [
    "countries_list2 = ['Cuba', 'Austrialia', 'Mexico', 'Russia', 'Thailand',\n",
    "                  'Peru', 'Canada', 'Uruguay', 'Chile', 'Colombia']\n",
    "print(countries_list2)"
   ]
  },
  {
   "cell_type": "code",
   "execution_count": 21,
   "metadata": {},
   "outputs": [
    {
     "name": "stdout",
     "output_type": "stream",
     "text": [
      "['Austrialia']\n"
     ]
    }
   ],
   "source": [
    "#Using numpy to combine both lists and find the common element\n",
    "#https://stackoverflow.com/questions/2864842/common-elements-comparison-between-2-lists\n",
    "\n",
    "import numpy as np\n",
    "common_elements = np.intersect1d(countries_list, countries_list2)\n",
    "print(common_elements)"
   ]
  },
  {
   "cell_type": "code",
   "execution_count": null,
   "metadata": {},
   "outputs": [],
   "source": []
  }
 ],
 "metadata": {
  "kernelspec": {
   "display_name": "Python 3 (ipykernel)",
   "language": "python",
   "name": "python3"
  },
  "language_info": {
   "codemirror_mode": {
    "name": "ipython",
    "version": 3
   },
   "file_extension": ".py",
   "mimetype": "text/x-python",
   "name": "python",
   "nbconvert_exporter": "python",
   "pygments_lexer": "ipython3",
   "version": "3.11.5"
  }
 },
 "nbformat": 4,
 "nbformat_minor": 4
}
